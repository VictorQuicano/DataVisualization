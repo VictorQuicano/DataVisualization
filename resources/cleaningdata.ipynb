{
 "cells": [
  {
   "cell_type": "code",
   "execution_count": 1,
   "id": "d5265a99",
   "metadata": {},
   "outputs": [],
   "source": [
    "import json"
   ]
  },
  {
   "cell_type": "code",
   "execution_count": 14,
   "id": "8628c16a",
   "metadata": {},
   "outputs": [],
   "source": [
    "with open(\"metatags.json\") as f:\n",
    "    metatags = json.load(f)\n",
    "\n",
    "with open('videos-scrap.json') as f:\n",
    "    videos_array = json.load(f)"
   ]
  },
  {
   "cell_type": "code",
   "execution_count": 15,
   "id": "0fb076d0",
   "metadata": {},
   "outputs": [],
   "source": [
    "metadata_list = [\n",
    "    {\"name\": key, \"color\": value[\"color\"], \"tags\": value[\"tags\"]}\n",
    "    for key, value in metatags.items()\n",
    "]"
   ]
  },
  {
   "cell_type": "code",
   "execution_count": 16,
   "id": "dc39fbb0",
   "metadata": {},
   "outputs": [],
   "source": [
    "# Crear un conjunto de todos los tags en metadata_list\n",
    "all_metatags = set()\n",
    "for metatag in metadata_list:\n",
    "    all_metatags.update(tag.lower() for tag in metatag['tags'])\n",
    "\n",
    "# Verificar si el tag del video está en los metatags\n",
    "for item in videos_array:\n",
    "    for video in item['videos']:\n",
    "        tag = video.get('tag', '').lower()\n",
    "        if tag and tag not in all_metatags:\n",
    "            print(f\"Tag: [{video['tag']}] not found in metatags\")\n"
   ]
  }
 ],
 "metadata": {
  "kernelspec": {
   "display_name": "Python 3",
   "language": "python",
   "name": "python3"
  },
  "language_info": {
   "codemirror_mode": {
    "name": "ipython",
    "version": 3
   },
   "file_extension": ".py",
   "mimetype": "text/x-python",
   "name": "python",
   "nbconvert_exporter": "python",
   "pygments_lexer": "ipython3",
   "version": "3.10.12"
  }
 },
 "nbformat": 4,
 "nbformat_minor": 5
}
